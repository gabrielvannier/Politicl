{
 "cells": [
  {
   "cell_type": "code",
   "execution_count": 54,
   "metadata": {},
   "outputs": [],
   "source": [
    "import pandas as pd\n",
    "import numpy as np"
   ]
  },
  {
   "cell_type": "code",
   "execution_count": 55,
   "metadata": {},
   "outputs": [],
   "source": [
    "path = '/Users/gabriel.vannier/Desktop/worktools/mygame/politicl/dataset_constitution/deputies_data_16legislature.csv'\n",
    "df = pd.read_csv(path)\n",
    "df = df.dropna(subset=['Party', 'Name','Birth Date'])"
   ]
  },
  {
   "cell_type": "code",
   "execution_count": 56,
   "metadata": {},
   "outputs": [],
   "source": [
    "def parse_date(str):\n",
    "    words = str.split(' ')\n",
    "    if len(words) != 3:\n",
    "        return words[1].split('(')[0]\n",
    "    return words[2].split('(')[0]"
   ]
  },
  {
   "cell_type": "code",
   "execution_count": 57,
   "metadata": {},
   "outputs": [],
   "source": [
    "def clean_name(dirty_name):\n",
    "    half = len(dirty_name) // 2 + 1\n",
    "    return dirty_name[half:]"
   ]
  },
  {
   "cell_type": "code",
   "execution_count": 58,
   "metadata": {},
   "outputs": [],
   "source": [
    "df['Birth Date'] = df.apply(lambda row: parse_date(row['Birth Date']), axis=1)"
   ]
  },
  {
   "cell_type": "code",
   "execution_count": 59,
   "metadata": {},
   "outputs": [],
   "source": [
    "df['Name'] = df.apply(lambda row: clean_name(row['Name']), axis=1)"
   ]
  },
  {
   "cell_type": "code",
   "execution_count": 49,
   "metadata": {},
   "outputs": [],
   "source": [
    "#count number of row per party\n",
    "a = df['Party'].value_counts()"
   ]
  },
  {
   "cell_type": "code",
   "execution_count": 51,
   "metadata": {},
   "outputs": [
    {
     "data": {
      "text/plain": [
       "Party\n",
       "RE          132\n",
       "RN           87\n",
       "LFI          64\n",
       "LR           56\n",
       "MoDem        46\n",
       "PS           28\n",
       "Horizons     25\n",
       "EELV         14\n",
       "PCF          12\n",
       "DVD          10\n",
       "RE-TdP       10\n",
       "DVG           9\n",
       "Agir          7\n",
       "DVC           6\n",
       "G.s           4\n",
       "UDI           4\n",
       "EÉLV          3\n",
       "Name: count, dtype: int64"
      ]
     },
     "execution_count": 51,
     "metadata": {},
     "output_type": "execute_result"
    }
   ],
   "source": [
    "a[:17]"
   ]
  },
  {
   "cell_type": "code",
   "execution_count": 61,
   "metadata": {},
   "outputs": [],
   "source": [
    "AccronymToFullName = {\n",
    "\"RE\": \"Renaissance\",\n",
    "\"RN\": \"Rassemblement National\",\n",
    "\"LFI\": \"La France Insoumise\",\n",
    "\"LR\": \"Les Républicains\",\n",
    "\"MoDem\": \"MoDem\",\n",
    "\"PS\": \"Parti Socialiste\",\n",
    "\"Horizons\": \"Horizons\",\n",
    "\"EELV\": \"Europe Écologie Les Verts\",\n",
    "\"EÉLV\": \"Europe Écologie Les Verts\",\n",
    "\"PCF\": \"Parti Communiste Français\",\n",
    "\"DVD\": \"Divers Droite\",\n",
    "\"RE-TdP\": \"Résistons !\",\n",
    "\"DVG\": \"Divers Gauche\",\n",
    "\"Agir\": \"Agir\",\n",
    "\"DVC\": \"Divers Centre\",\n",
    "\"UDI\": \"UDI\",\n",
    "}"
   ]
  },
  {
   "cell_type": "code",
   "execution_count": 62,
   "metadata": {},
   "outputs": [],
   "source": [
    "df['Party'] = df['Party'].apply(lambda x: AccronymToFullName.get(x, np.nan))"
   ]
  },
  {
   "cell_type": "code",
   "execution_count": 64,
   "metadata": {},
   "outputs": [],
   "source": [
    "df.dropna(subset=['Party'], inplace=True)"
   ]
  },
  {
   "cell_type": "code",
   "execution_count": 66,
   "metadata": {},
   "outputs": [],
   "source": [
    "df['HighestFunction'] = \"Député\""
   ]
  },
  {
   "cell_type": "code",
   "execution_count": 68,
   "metadata": {},
   "outputs": [],
   "source": [
    "df[\"prénom\"] = df[\"Name\"].apply(lambda x: x.split(' ')[0])"
   ]
  },
  {
   "cell_type": "code",
   "execution_count": 72,
   "metadata": {},
   "outputs": [
    {
     "data": {
      "text/plain": [
       "array(['Damien', 'Caroline', 'Nadège', 'Éric', 'Xavier', 'Laurent',\n",
       "       'Henri', 'Franck', 'Gabriel', 'David', 'Ségolène', 'Farida',\n",
       "       'Pieyre-Alexandre', 'Emmanuelle', 'Jean-Philippe', 'Rodrigo',\n",
       "       'Antoine', 'Christine', 'Bénédicte', 'Joël', 'Anne-Laure', 'Erwan',\n",
       "       'Philippe', 'Géraldine', 'Christophe', 'Nathalie', 'Quentin',\n",
       "       'Marie-Noëlle', 'Romain', 'Julien', 'Thibault', 'Valérie',\n",
       "       'Clément', 'José', 'Olivier', 'Belkhir', 'Béatrice', 'Lisa',\n",
       "       'Édouard', 'Thierry', 'Fanta', 'Anne', 'Ugo', 'Pierrick',\n",
       "       'Véronique', 'Bruno', 'Carlos', 'Emmanuel', 'Sophie', 'Frédéric',\n",
       "       'Manuel', 'Sylvie', 'Émilie', 'Jean-Yves', 'Pascale', 'Élisabeth',\n",
       "       'Ian', 'Florent', 'Chantal', 'Mickaël', 'Idir', 'Jean-Luc',\n",
       "       'Jean-Louis', 'Soumya', 'Bertrand', 'Jorys', 'Louis', 'Yaël',\n",
       "       'Maud', 'Guy', 'Hubert', 'Blandine', 'Anthony', 'Vincent',\n",
       "       'Danielle', 'Fabrice', 'Stéphane', 'Françoise', 'Jérôme', 'Céline',\n",
       "       'Éléonore', 'Sylvain', 'Victor', 'Lionel', 'Jean-René', 'Pierre',\n",
       "       'André', 'Cyrielle', 'Florian', 'Yannick', 'Sébastien', 'Sophia',\n",
       "       'Paul', 'Roger', 'Hadrien', 'Fabienne', 'Claire', 'Alexis',\n",
       "       'François', 'Josiane', 'Bérangère', 'Jean-François', 'Annick',\n",
       "       'Catherine', 'Laurence', 'Jean-Pierre', 'le', 'Dominique',\n",
       "       'Marie-Christine', 'Geneviève', 'Hendrik', 'lain', 'Arthur',\n",
       "       'Julie', 'Mathilde', 'Jocelyn', 'Fabien', 'Edwige', 'Benjamin',\n",
       "       'Sandrine', 'Nicolas', 'Francis', 'Virginie', 'Alma',\n",
       "       'Pierre-Henri', 'Iñaki', 'Martine', 'Elsa', 'Marc', 'Jean-Marie',\n",
       "       'Agnès', 'Grégoire', 'Charles', 'Thibaut', 'Stéphanie',\n",
       "       'Marie-Charlotte', 'Guillaume', 'Raquel', 'Thomas', 'Jean-Jacques',\n",
       "       'Luc', 'Annie', 'Félicie', 'Raphaël', 'Frank', 'Yoann',\n",
       "       'Christian', 'Olga', 'Florence', 'Perrine', 'Carole', 'Daniel',\n",
       "       'Justine', 'Clémence', 'Michel', 'Jordan', 'Meyer', 'Nadia',\n",
       "       'Marine', 'Patrick', 'Alexandre', 'Sacha', 'Timothée', 'Monique',\n",
       "       'Jérémie', 'Cyrille', 'Jean-Michel', 'Élodie', 'Mansour',\n",
       "       'Marietta', 'Rachel', 'Fatiha', 'Andy', 'Loïc', 'Brigitte',\n",
       "       'Bastien', 'Maxime', 'Amal', 'Hélène', 'Mohamed', 'Jean-Charles',\n",
       "       'Laure', 'Pascal', 'Didier', 'Arnaud', 'Gilles', 'Constance',\n",
       "       'Annaïg', 'Nicole', 'Élise', 'Jean-Paul', 'Charlotte', 'Mathieu',\n",
       "       'Sarah', 'Gisèle', 'Patricia', 'Hervé', 'Murielle', 'Gérard',\n",
       "       'Katiana', 'Delphine', 'Aurélien', 'Aude', 'Lise', 'Jacqueline',\n",
       "       'Matthieu', 'Sandra', 'Alexandra', 'Élisa', 'tineau', 'William',\n",
       "       'Michèle', 'Denis', 'Bryan', 'Max', 'Kévin', 'Marianne',\n",
       "       'eizonnet', 'Graziella', 'Joëlle', 'Ludovic', 'Lysiane',\n",
       "       'Frédérique', 'Manon', 'Marjolaine', 'Morel', \"À-L'Huissier\",\n",
       "       'Benoît', 'Naïma', 'Serge', 'Danièle', 'Karl', 'Jimmy', 'Astrid',\n",
       "       'Francesca', 'Isabelle', 'Patrice', 'Anne-Laurence', 'Christelle',\n",
       "       'Anna', 'René', 'Marie', 'Lisette', 'Josy', 'Marie-Agnès',\n",
       "       'Natalia', 'Adrien', 'Richard', 'Angélique', 'Jean-Claude', 'Rémy',\n",
       "       'Robin', 'Davy', 'Marie-Pierre', 'Claudia', 'Anaïs', 'Laetitia',\n",
       "       'Émeric', 'Éva', 'Sabrina', 'Mikaele', 'Ersilia', 'Violette',\n",
       "       'Liliana', 'Andrée', 'Matthias', 'Michaël', 'Jean-Marc', 'Jean',\n",
       "       'Sabine', 'Mélanie', 'Huguette', 'Aurélie', 'Cécile', 'Boris',\n",
       "       'Corinne', 'Juliette', 'Anne-Cécile', 'Léo', 'Christopher',\n",
       "       'Jiovanny', 'Estelle'], dtype=object)"
      ]
     },
     "execution_count": 72,
     "metadata": {},
     "output_type": "execute_result"
    }
   ],
   "source": [
    "df[\"prénom\"].unique()"
   ]
  },
  {
   "cell_type": "code",
   "execution_count": 73,
   "metadata": {},
   "outputs": [],
   "source": [
    "nameToGender = {\"Damien\": \"H\", \"Caroline\": \"F\", \"Nadège\": \"F\", \"Éric\": \"H\", \"Xavier\": \"H\", \"Laurent\": \"H\", \"Henri\": \"H\", \"Franck\": \"H\", \"Gabriel\": \"H\", \"David\": \"H\", \"Ségolène\": \"F\", \"Farida\": \"F\", \"Pieyre-Alexandre\": \"H\", \"Emmanuelle\": \"F\", \"Jean-Philippe\": \"H\", \"Rodrigo\": \"H\", \"Antoine\": \"H\", \"Christine\": \"F\", \"Bénédicte\": \"F\", \"Joël\": \"H\", \"Anne-Laure\": \"F\", \"Erwan\": \"H\", \"Philippe\": \"H\", \"Géraldine\": \"F\", \"Christophe\": \"H\", \"Nathalie\": \"F\", \"Quentin\": \"H\", \"Marie-Noëlle\": \"F\", \"Romain\": \"H\", \"Julien\": \"H\", \"Thibault\": \"H\", \"Valérie\": \"F\", \"Clément\": \"H\", \"José\": \"H\", \"Olivier\": \"H\", \"Belkhir\": \"H\", \"Béatrice\": \"F\", \"Lisa\": \"F\", \"Édouard\": \"H\", \"Thierry\": \"H\", \"Fanta\": \"F\", \"Anne\": \"F\", \"Ugo\": \"H\", \"Pierrick\": \"H\", \"Véronique\": \"F\", \"Bruno\": \"H\", \"Carlos\": \"H\", \"Emmanuel\": \"H\", \"Sophie\": \"F\", \"Frédéric\": \"H\", \"Manuel\": \"H\", \"Sylvie\": \"F\", \"Émilie\": \"F\", \"Jean-Yves\": \"H\", \"Pascale\": \"F\", \"Élisabeth\": \"F\", \"Ian\": \"H\", \"Florent\": \"H\", \"Chantal\": \"F\", \"Mickaël\": \"H\", \"Idir\": \"H\", \"Jean-Luc\": \"H\", \"Jean-Louis\": \"H\", \"Soumya\": \"F\", \"Bertrand\": \"H\", \"Jorys\": \"H\", \"Louis\": \"H\", \"Yaël\": \"F\", \"Maud\": \"F\", \"Guy\": \"H\", \"Hubert\": \"H\", \"Blandine\": \"F\", \"Anthony\": \"H\", \"Vincent\": \"H\", \"Danielle\": \"F\", \"Fabrice\": \"H\", \"Stéphane\": \"H\", \"Françoise\": \"F\", \"Jérôme\": \"H\", \"Céline\": \"F\", \"Éléonore\": \"F\", \"Sylvain\": \"H\", \"Victor\": \"H\", \"Lionel\": \"H\", \"Jean-René\": \"H\", \"Pierre\": \"H\", \"André\": \"H\", \"Cyrielle\": \"F\", \"Florian\": \"H\", \"Yannick\": \"H\", \"Sébastien\": \"H\", \"Sophia\": \"F\", \"Paul\": \"H\", \"Roger\": \"H\", \"Hadrien\": \"H\", \"Fabienne\": \"F\", \"Claire\": \"F\", \"Alexis\": \"H\", \"François\": \"H\", \"Josiane\": \"F\", \"Bérangère\": \"F\", \"Jean-François\": \"H\", \"Annick\": \"F\", \"Catherine\": \"F\", \"Laurence\": \"F\", \"Jean-Pierre\": \"H\", \"le\": \"\", \"Dominique\": \"F\", \"Marie-Christine\": \"F\", \"Geneviève\": \"F\", \"Hendrik\": \"H\", \"lain\": \"\", \"Arthur\": \"H\", \"Julie\": \"F\", \"Mathilde\": \"F\", \"Jocelyn\": \"F\", \"Fabien\": \"H\", \"Edwige\": \"F\", \"Benjamin\": \"H\", \"Sandrine\": \"F\", \"Nicolas\": \"H\", \"Francis\": \"H\", \"Virginie\": \"F\", \"Alma\": \"F\", \"Pierre-Henri\": \"H\", \"Iñaki\": \"H\", \"Martine\": \"F\", \"Elsa\": \"F\", \"Marc\": \"H\", \"Jean-Marie\": \"H\", \"Agnès\": \"F\", \"Grégoire\": \"H\", \"Charles\": \"H\", \"Thibaut\": \"H\", \"Stéphanie\": \"F\", \"Marie-Charlotte\": \"F\", \"Guillaume\": \"H\", \"Raquel\": \"F\", \"Thomas\": \"H\", \"Jean-Jacques\": \"H\", \"Luc\": \"H\", \"Annie\": \"F\", \"Félicie\": \"F\", \"Raphaël\": \"H\", \"Frank\": \"H\", \"Yoann\": \"H\", \"Christian\": \"H\", \"Olga\": \"F\", \"Florence\": \"F\", \"Perrine\": \"F\", \"Carole\": \"F\", \"Daniel\": \"H\", \"Justine\": \"F\", \"Clémence\": \"F\", \"Michel\": \"H\", \"Jordan\": \"H\", \"Meyer\": \"H\", \"Nadia\": \"F\", \"Marine\": \"F\", \"Patrick\": \"H\", \"Alexandre\": \"H\", \"Sacha\": \"H\", \"Timothée\": \"H\", \"Monique\": \"F\", \"Jérémie\": \"H\", \"Cyrille\": \"H\", \"Jean-Michel\": \"H\", \"Élodie\": \"F\", \"Mansour\": \"H\", \"Marietta\": \"F\", \"Rachel\": \"F\", \"Fatiha\": \"F\", \"Andy\": \"H\", \"Loïc\": \"H\", \"Brigitte\": \"F\", \"Bastien\": \"H\", \"Maxime\": \"H\", \"Amal\": \"F\", \"Hélène\": \"F\", \"Mohamed\": \"H\", \"Jean-Charles\": \"H\", \"Laure\": \"F\", \"Pascal\": \"H\", \"Didier\": \"H\", \"Arnaud\": \"H\", \"Gilles\": \"H\", \"Constance\": \"F\", \"Annaïg\": \"F\", \"Nicole\": \"F\", \"Élise\": \"F\", \"Jean-Paul\": \"H\", \"Charlotte\": \"F\", \"Mathieu\": \"H\", \"Sarah\": \"F\", \"Gisèle\": \"F\", \"Patricia\": \"F\", \"Hervé\": \"H\", \"Murielle\": \"F\", \"Gérard\": \"H\", \"Katiana\": \"F\", \"Delphine\": \"F\", \"Aurélien\": \"H\", \"Aude\": \"F\", \"Lise\": \"F\", \"Jacqueline\": \"F\", \"Matthieu\": \"H\", \"Sandra\": \"F\", \"Alexandra\": \"F\", \"Élisa\": \"F\", \"tineau\": \"\", \"William\": \"H\", \"Michèle\": \"F\", \"Denis\": \"H\", \"Bryan\": \"H\", \"Max\": \"H\", \"Kévin\": \"H\", \"Marianne\": \"F\", \"eizonnet\": \"\", \"Graziella\": \"F\", \"Joëlle\": \"F\", \"Ludovic\": \"H\", \"Lysiane\": \"F\", \"Frédérique\": \"F\", \"Manon\": \"F\", \"Marjolaine\": \"F\", \"Morel\": \"H\", \"À-L'Huissier\": \"\", \"Benoît\": \"H\", \"Naïma\": \"F\", \"Serge\": \"H\", \"Danièle\": \"F\", \"Karl\": \"H\", \"Jimmy\": \"H\", \"Astrid\": \"F\", \"Francesca\": \"F\", \"Isabelle\": \"F\", \"Patrice\": \"H\", \"Anne-Laurence\": \"F\", \"Christelle\": \"F\", \"Anna\": \"F\", \"René\": \"H\", \"Marie\": \"F\", \"Lisette\": \"F\", \"Josy\": \"F\", \"Marie-Agnès\": \"F\", \"Natalia\": \"F\", \"Adrien\": \"H\", \"Richard\": \"H\", \"Angélique\": \"F\", \"Jean-Claude\": \"H\", \"Rémy\": \"H\", \"Robin\": \"H\", \"Davy\": \"H\", \"Marie-Pierre\": \"F\", \"Claudia\": \"F\", \"Anaïs\": \"F\", \"Laetitia\": \"F\", \"Émeric\": \"H\", \"Éva\": \"F\", \"Sabrina\": \"F\", \"Mikaele\": \"F\", \"Ersilia\": \"F\", \"Violette\": \"F\", \"Liliana\": \"F\", \"Andrée\": \"F\", \"Matthias\": \"H\", \"Michaël\": \"H\", \"Jean-Marc\": \"H\", \"Jean\": \"H\", \"Sabine\": \"F\", \"Mélanie\": \"F\", \"Huguette\": \"F\", \"Aurélie\": \"F\", \"Cécile\": \"F\", \"Boris\": \"H\", \"Corinne\": \"F\", \"Juliette\": \"F\", \"Anne-Cécile\": \"F\", \"Léo\": \"H\", \"Christopher\": \"H\", \"Jiovanny\": \"H\", \"Estelle\": \"F\"}"
   ]
  },
  {
   "cell_type": "code",
   "execution_count": 80,
   "metadata": {},
   "outputs": [],
   "source": [
    "def get_gender(name):\n",
    "    a=  nameToGender.get(name, np.nan)\n",
    "    if a == '':\n",
    "        return np.nan\n",
    "    return a\n",
    "\n",
    "df['gender'] = df['prénom'].apply(lambda x: get_gender(x))"
   ]
  },
  {
   "cell_type": "code",
   "execution_count": 81,
   "metadata": {},
   "outputs": [],
   "source": [
    "df.dropna(subset=['gender'],inplace=True)"
   ]
  },
  {
   "cell_type": "code",
   "execution_count": 84,
   "metadata": {},
   "outputs": [],
   "source": [
    "df['is_worthy_to_be_guessed'] = False"
   ]
  },
  {
   "cell_type": "code",
   "execution_count": 86,
   "metadata": {},
   "outputs": [],
   "source": [
    "df.drop(columns=['prénom'], inplace=True)"
   ]
  },
  {
   "cell_type": "code",
   "execution_count": 88,
   "metadata": {},
   "outputs": [],
   "source": [
    "#change order of columns\n",
    "df = df[['Name','gender','HighestFunction','Party','Birth Date','is_worthy_to_be_guessed']]"
   ]
  },
  {
   "cell_type": "code",
   "execution_count": 89,
   "metadata": {},
   "outputs": [
    {
     "data": {
      "text/html": [
       "<div>\n",
       "<style scoped>\n",
       "    .dataframe tbody tr th:only-of-type {\n",
       "        vertical-align: middle;\n",
       "    }\n",
       "\n",
       "    .dataframe tbody tr th {\n",
       "        vertical-align: top;\n",
       "    }\n",
       "\n",
       "    .dataframe thead th {\n",
       "        text-align: right;\n",
       "    }\n",
       "</style>\n",
       "<table border=\"1\" class=\"dataframe\">\n",
       "  <thead>\n",
       "    <tr style=\"text-align: right;\">\n",
       "      <th></th>\n",
       "      <th>Name</th>\n",
       "      <th>gender</th>\n",
       "      <th>HighestFunction</th>\n",
       "      <th>Party</th>\n",
       "      <th>Birth Date</th>\n",
       "      <th>is_worthy_to_be_guessed</th>\n",
       "    </tr>\n",
       "  </thead>\n",
       "  <tbody>\n",
       "    <tr>\n",
       "      <th>0</th>\n",
       "      <td>Damien Abad</td>\n",
       "      <td>H</td>\n",
       "      <td>Député</td>\n",
       "      <td>Divers Droite</td>\n",
       "      <td>1980</td>\n",
       "      <td>False</td>\n",
       "    </tr>\n",
       "    <tr>\n",
       "      <th>1</th>\n",
       "      <td>Caroline Abadie</td>\n",
       "      <td>F</td>\n",
       "      <td>Député</td>\n",
       "      <td>Renaissance</td>\n",
       "      <td>1976</td>\n",
       "      <td>False</td>\n",
       "    </tr>\n",
       "    <tr>\n",
       "      <th>2</th>\n",
       "      <td>Nadège Abomangoli</td>\n",
       "      <td>F</td>\n",
       "      <td>Député</td>\n",
       "      <td>La France Insoumise</td>\n",
       "      <td>1975</td>\n",
       "      <td>False</td>\n",
       "    </tr>\n",
       "    <tr>\n",
       "      <th>4</th>\n",
       "      <td>Damien Adam</td>\n",
       "      <td>H</td>\n",
       "      <td>Député</td>\n",
       "      <td>Renaissance</td>\n",
       "      <td>1989</td>\n",
       "      <td>False</td>\n",
       "    </tr>\n",
       "    <tr>\n",
       "      <th>5</th>\n",
       "      <td>Éric Alauzet</td>\n",
       "      <td>H</td>\n",
       "      <td>Député</td>\n",
       "      <td>Résistons !</td>\n",
       "      <td>1958</td>\n",
       "      <td>False</td>\n",
       "    </tr>\n",
       "    <tr>\n",
       "      <th>...</th>\n",
       "      <td>...</td>\n",
       "      <td>...</td>\n",
       "      <td>...</td>\n",
       "      <td>...</td>\n",
       "      <td>...</td>\n",
       "      <td>...</td>\n",
       "    </tr>\n",
       "    <tr>\n",
       "      <th>572</th>\n",
       "      <td>Jiovanny William</td>\n",
       "      <td>H</td>\n",
       "      <td>Député</td>\n",
       "      <td>Divers Gauche</td>\n",
       "      <td>1985</td>\n",
       "      <td>False</td>\n",
       "    </tr>\n",
       "    <tr>\n",
       "      <th>573</th>\n",
       "      <td>Éric Woerth</td>\n",
       "      <td>H</td>\n",
       "      <td>Député</td>\n",
       "      <td>Divers Droite</td>\n",
       "      <td>1956</td>\n",
       "      <td>False</td>\n",
       "    </tr>\n",
       "    <tr>\n",
       "      <th>574</th>\n",
       "      <td>Caroline Yadan</td>\n",
       "      <td>F</td>\n",
       "      <td>Député</td>\n",
       "      <td>Renaissance</td>\n",
       "      <td>1968</td>\n",
       "      <td>False</td>\n",
       "    </tr>\n",
       "    <tr>\n",
       "      <th>575</th>\n",
       "      <td>Estelle Youssouffa</td>\n",
       "      <td>F</td>\n",
       "      <td>Député</td>\n",
       "      <td>Divers Droite</td>\n",
       "      <td>1978</td>\n",
       "      <td>False</td>\n",
       "    </tr>\n",
       "    <tr>\n",
       "      <th>576</th>\n",
       "      <td>Jean-Marc Zulesi</td>\n",
       "      <td>H</td>\n",
       "      <td>Député</td>\n",
       "      <td>Renaissance</td>\n",
       "      <td>1988</td>\n",
       "      <td>False</td>\n",
       "    </tr>\n",
       "  </tbody>\n",
       "</table>\n",
       "<p>508 rows × 6 columns</p>\n",
       "</div>"
      ],
      "text/plain": [
       "                   Name gender HighestFunction                Party  \\\n",
       "0           Damien Abad      H          Député        Divers Droite   \n",
       "1       Caroline Abadie      F          Député          Renaissance   \n",
       "2     Nadège Abomangoli      F          Député  La France Insoumise   \n",
       "4           Damien Adam      H          Député          Renaissance   \n",
       "5          Éric Alauzet      H          Député          Résistons !   \n",
       "..                  ...    ...             ...                  ...   \n",
       "572    Jiovanny William      H          Député        Divers Gauche   \n",
       "573         Éric Woerth      H          Député        Divers Droite   \n",
       "574      Caroline Yadan      F          Député          Renaissance   \n",
       "575  Estelle Youssouffa      F          Député        Divers Droite   \n",
       "576    Jean-Marc Zulesi      H          Député          Renaissance   \n",
       "\n",
       "    Birth Date  is_worthy_to_be_guessed  \n",
       "0         1980                    False  \n",
       "1         1976                    False  \n",
       "2         1975                    False  \n",
       "4         1989                    False  \n",
       "5         1958                    False  \n",
       "..         ...                      ...  \n",
       "572       1985                    False  \n",
       "573       1956                    False  \n",
       "574       1968                    False  \n",
       "575       1978                    False  \n",
       "576       1988                    False  \n",
       "\n",
       "[508 rows x 6 columns]"
      ]
     },
     "execution_count": 89,
     "metadata": {},
     "output_type": "execute_result"
    }
   ],
   "source": [
    "df"
   ]
  },
  {
   "cell_type": "code",
   "execution_count": 94,
   "metadata": {},
   "outputs": [],
   "source": [
    "dest_path = '/Users/gabriel.vannier/Desktop/worktools/mygame/politicl/dataset_constitution/cleaned_csv/deputies_data_16legislature.csv'"
   ]
  },
  {
   "cell_type": "code",
   "execution_count": 95,
   "metadata": {},
   "outputs": [],
   "source": [
    "#save to csv\n",
    "df.to_csv(dest_path, index=False)"
   ]
  },
  {
   "cell_type": "code",
   "execution_count": null,
   "metadata": {},
   "outputs": [],
   "source": []
  }
 ],
 "metadata": {
  "kernelspec": {
   "display_name": "dataset-constitution-YISENvbE-py3.12",
   "language": "python",
   "name": "python3"
  },
  "language_info": {
   "codemirror_mode": {
    "name": "ipython",
    "version": 3
   },
   "file_extension": ".py",
   "mimetype": "text/x-python",
   "name": "python",
   "nbconvert_exporter": "python",
   "pygments_lexer": "ipython3",
   "version": "3.12.4"
  }
 },
 "nbformat": 4,
 "nbformat_minor": 2
}
